{
 "cells": [
  {
   "cell_type": "code",
   "execution_count": null,
   "metadata": {
    "collapsed": true,
    "deletable": true,
    "editable": true
   },
   "outputs": [],
   "source": [
    "# This line is a comment because it begins with '#'. It doesn't do anything."
   ]
  },
  {
   "cell_type": "code",
   "execution_count": 48,
   "metadata": {
    "collapsed": false,
    "deletable": true,
    "editable": true
   },
   "outputs": [
    {
     "name": "stdout",
     "output_type": "stream",
     "text": [
      "3\n"
     ]
    }
   ],
   "source": [
    "# 'a' is a variable\n",
    "# TODO: change the value of 'a'\n",
    "a = 3\n",
    "print (a)"
   ]
  },
  {
   "cell_type": "code",
   "execution_count": 49,
   "metadata": {
    "collapsed": false,
    "deletable": true,
    "editable": true
   },
   "outputs": [
    {
     "name": "stdout",
     "output_type": "stream",
     "text": [
      "3\n",
      "4\n",
      "(3, 4)\n"
     ]
    }
   ],
   "source": [
    "# 'b' is another variable\n",
    "# TODO: change the value of 'a' and 'b'\n",
    "b = 4\n",
    "print (a)\n",
    "print (b)\n",
    "print (a,b)"
   ]
  },
  {
   "cell_type": "code",
   "execution_count": 50,
   "metadata": {
    "collapsed": false,
    "deletable": true,
    "editable": true
   },
   "outputs": [
    {
     "name": "stdout",
     "output_type": "stream",
     "text": [
      "6\n",
      "7\n"
     ]
    }
   ],
   "source": [
    "# You can add variables together\n",
    "# TODO: add three numbers together\n",
    "c = a + 3\n",
    "print (c)\n",
    "\n",
    "d = a + b\n",
    "print (d)"
   ]
  },
  {
   "cell_type": "code",
   "execution_count": 51,
   "metadata": {
    "collapsed": false,
    "deletable": true,
    "editable": true
   },
   "outputs": [
    {
     "name": "stdout",
     "output_type": "stream",
     "text": [
      "hello\n"
     ]
    }
   ],
   "source": [
    "# Variables can be strings (i.e. letters) as well as numbers\n",
    "e = \"hello\"\n",
    "print (e)"
   ]
  },
  {
   "cell_type": "code",
   "execution_count": 52,
   "metadata": {
    "collapsed": false,
    "deletable": true,
    "editable": true
   },
   "outputs": [
    {
     "name": "stdout",
     "output_type": "stream",
     "text": [
      "hello\n",
      "goodbye\n",
      "hellogoodbye\n"
     ]
    }
   ],
   "source": [
    "# Python concatenates two string with '+'\n",
    "# TODO: what happens if you add a number and a string together?\n",
    "f = \"goodbye\"\n",
    "g = e + f\n",
    "print (e)\n",
    "print (f)\n",
    "print (g)"
   ]
  },
  {
   "cell_type": "code",
   "execution_count": 53,
   "metadata": {
    "collapsed": false,
    "deletable": true,
    "editable": true
   },
   "outputs": [
    {
     "name": "stdout",
     "output_type": "stream",
     "text": [
      "6\n"
     ]
    }
   ],
   "source": [
    "# Functions capture bits of code you want to run again and again \n",
    "# They begin with the word 'def', and you define their parameters (here 'x' and 'y')\n",
    "# TODO: change the numbers you pass into the function\n",
    "\n",
    "def add_two_numbers(x,y):\n",
    "    result = x + y\n",
    "    return result\n",
    "\n",
    "h = add_two_numbers(1, 5)\n",
    "print (h)"
   ]
  },
  {
   "cell_type": "code",
   "execution_count": 54,
   "metadata": {
    "collapsed": false,
    "deletable": true,
    "editable": true
   },
   "outputs": [
    {
     "name": "stdout",
     "output_type": "stream",
     "text": [
      "7\n"
     ]
    }
   ],
   "source": [
    "# You can pass variables to functions\n",
    "# TODO: change the values of 'a' and 'b'\n",
    "\n",
    "i = add_two_numbers(a, b)\n",
    "print (i)"
   ]
  },
  {
   "cell_type": "code",
   "execution_count": 55,
   "metadata": {
    "collapsed": true,
    "deletable": true,
    "editable": true
   },
   "outputs": [],
   "source": [
    "# TODO: change this to give the correct result and print out the result\n",
    "\n",
    "def multiply_two_numbers(x,y):\n",
    "    result = x + y\n",
    "    return result"
   ]
  },
  {
   "cell_type": "code",
   "execution_count": 68,
   "metadata": {
    "collapsed": false,
    "deletable": true,
    "editable": true
   },
   "outputs": [
    {
     "name": "stdout",
     "output_type": "stream",
     "text": [
      "3\n",
      "4\n",
      "a and b are the same\n"
     ]
    }
   ],
   "source": [
    "# if statements let you decide between two things\n",
    "# TODO: change to return the smallest of two numbers\n",
    "\n",
    "def compare_two_numbers(a,b):\n",
    "    if a > b:\n",
    "        result = \"a is larger than b\"\n",
    "    elif a == b:\n",
    "        result = \"a and b are the same\"\n",
    "    else:\n",
    "        result = \"b is larger than a\"\n",
    "    return result\n",
    "\n",
    "j = compare_two_numbers(1,5)\n",
    "print (j)"
   ]
  },
  {
   "cell_type": "code",
   "execution_count": 57,
   "metadata": {
    "collapsed": false,
    "deletable": true,
    "editable": true
   },
   "outputs": [
    {
     "name": "stdout",
     "output_type": "stream",
     "text": [
      "1\n"
     ]
    }
   ],
   "source": [
    "# We can use a library function to generate random numbers using \"from LIBRARY import FUNCTION\"\n",
    "from random import randint\n",
    "\n",
    "# This creates a random number from 0 to 4\n",
    "k = randint(0,5)\n",
    "print (k)"
   ]
  },
  {
   "cell_type": "code",
   "execution_count": 58,
   "metadata": {
    "collapsed": false,
    "deletable": true,
    "editable": true
   },
   "outputs": [
    {
     "name": "stdout",
     "output_type": "stream",
     "text": [
      "Harry Potter\n",
      "8\n",
      "Gilderoy Lockhart\n"
     ]
    }
   ],
   "source": [
    "# 'm' is a list (array) of strings\n",
    "m = [\"Harry Potter\", \n",
    "     \"Hermione Granger\", \n",
    "     \"Bellatrix Lestrange\",\n",
    "     \"Draco Malfoy\",\n",
    "     \"Ron Weasley\",\n",
    "     \"Sirius Snape\",\n",
    "     \"Cedric Diggory\",\n",
    "     \"Gilderoy Lockhart\"]\n",
    "\n",
    "# lists are accessed by position and square brackets. The first entry is in position 0.\n",
    "print (m[0])\n",
    "\n",
    "# you can find the length of an array with len\n",
    "print (len(m))\n",
    "\n",
    "# you can get to the last entry\n",
    "print (m[len(m)-1])"
   ]
  },
  {
   "cell_type": "code",
   "execution_count": 59,
   "metadata": {
    "collapsed": false,
    "deletable": true,
    "editable": true
   },
   "outputs": [
    {
     "name": "stdout",
     "output_type": "stream",
     "text": [
      "Sirius Snape\n"
     ]
    }
   ],
   "source": [
    "# using the random number generator, you can print a random entry in the list \n",
    "idx = randint(0,len(m))\n",
    "print (m[idx])"
   ]
  },
  {
   "cell_type": "code",
   "execution_count": 60,
   "metadata": {
    "collapsed": false,
    "deletable": true,
    "editable": true
   },
   "outputs": [
    {
     "name": "stdout",
     "output_type": "stream",
     "text": [
      "Slytherin\n"
     ]
    }
   ],
   "source": [
    "# Putting it all together\n",
    "def sorting_hat(person):\n",
    "    if person == \"Draco Malfoy\" or person == \"Sirius Snape\" or person == \"Bellatrix Lestrange\":\n",
    "        result = \"Slytherin\"\n",
    "    elif person == \"Cedric Diggory\":\n",
    "        result = \"Hufflepuff\"\n",
    "    elif person == \"Gilderoy Lockhart\":\n",
    "        result = \"Ravenclaw\"\n",
    "    else:\n",
    "        result = \"Gryffindor\"\n",
    "    return result\n",
    "\n",
    "house = sorting_hat(\"Draco Malfoy\")\n",
    "print (house)"
   ]
  },
  {
   "cell_type": "code",
   "execution_count": 61,
   "metadata": {
    "collapsed": false,
    "deletable": true,
    "editable": true
   },
   "outputs": [
    {
     "name": "stdout",
     "output_type": "stream",
     "text": [
      "Sirius Snape belongs in Slytherin\n"
     ]
    }
   ],
   "source": [
    "idx = randint(0,len(m)-1)\n",
    "person = m[idx]\n",
    "house = sorting_hat(person)\n",
    "print (person + \" belongs in \" + house)"
   ]
  },
  {
   "cell_type": "code",
   "execution_count": 62,
   "metadata": {
    "collapsed": true,
    "deletable": true,
    "editable": true
   },
   "outputs": [],
   "source": [
    "# TODO: now have a go at writing your own function!"
   ]
  }
 ],
 "metadata": {
  "kernelspec": {
   "display_name": "Python 2",
   "language": "python",
   "name": "python2"
  },
  "language_info": {
   "codemirror_mode": {
    "name": "ipython",
    "version": 2.0
   },
   "file_extension": ".py",
   "mimetype": "text/x-python",
   "name": "python",
   "nbconvert_exporter": "python",
   "pygments_lexer": "ipython2",
   "version": "2.7.12"
  }
 },
 "nbformat": 4,
 "nbformat_minor": 0
}